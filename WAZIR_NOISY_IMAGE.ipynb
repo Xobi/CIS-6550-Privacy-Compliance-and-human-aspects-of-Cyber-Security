{
  "nbformat": 4,
  "nbformat_minor": 0,
  "metadata": {
    "colab": {
      "provenance": []
    },
    "kernelspec": {
      "name": "python3",
      "display_name": "Python 3"
    },
    "language_info": {
      "name": "python"
    }
  },
  "cells": [
    {
      "cell_type": "code",
      "execution_count": 1,
      "metadata": {
        "colab": {
          "base_uri": "https://localhost:8080/"
        },
        "id": "y5axEMc8ZvIH",
        "outputId": "51fa6fe3-143f-411b-e415-978703e75fee"
      },
      "outputs": [
        {
          "output_type": "stream",
          "name": "stdout",
          "text": [
            "Cloning into 'YANG91'...\n",
            "remote: Enumerating objects: 96, done.\u001b[K\n",
            "remote: Total 96 (delta 0), reused 0 (delta 0), pack-reused 96 (from 1)\u001b[K\n",
            "Receiving objects: 100% (96/96), 25.48 MiB | 22.85 MiB/s, done.\n",
            "Resolving deltas: 100% (1/1), done.\n"
          ]
        }
      ],
      "source": [
        "!git clone https://github.com/niazwazir/YANG91.git"
      ]
    },
    {
      "cell_type": "code",
      "source": [
        "!ls"
      ],
      "metadata": {
        "colab": {
          "base_uri": "https://localhost:8080/"
        },
        "id": "5MM_SiZVbA9h",
        "outputId": "da0a2124-777c-4fe2-8e99-f8e348524878"
      },
      "execution_count": 22,
      "outputs": [
        {
          "output_type": "stream",
          "name": "stdout",
          "text": [
            "sample_data  WAZIR_NOISY_IMAGE\tYANG91\n"
          ]
        }
      ]
    },
    {
      "cell_type": "code",
      "source": [
        "!mkdir WAZIR_NOISY_IMAGE"
      ],
      "metadata": {
        "id": "n5HWko2taRMe"
      },
      "execution_count": 8,
      "outputs": []
    },
    {
      "cell_type": "code",
      "source": [
        "!ls"
      ],
      "metadata": {
        "colab": {
          "base_uri": "https://localhost:8080/"
        },
        "id": "FIk1nFoSaXBf",
        "outputId": "01e5cf75-264c-4cc9-8cd8-94966e934c43"
      },
      "execution_count": 9,
      "outputs": [
        {
          "output_type": "stream",
          "name": "stdout",
          "text": [
            "sample_data  WAZIR_NOISY_IMAGE\tYANG91\n"
          ]
        }
      ]
    },
    {
      "cell_type": "code",
      "source": [
        "import os\n",
        "import numpy as np\n",
        "from PIL import Image\n",
        "\n",
        "def add_gaussian_noise(image, mean=0, sigma=25):\n",
        "    \"\"\"Add Gaussian noise to an image.\"\"\"\n",
        "    # Convert image to numpy array\n",
        "    image_array = np.array(image)\n",
        "\n",
        "    # Generate Gaussian noise\n",
        "    noise = np.random.normal(mean, sigma, image_array.shape).astype(np.uint8)\n",
        "\n",
        "    # Add noise to the image\n",
        "    noisy_image_array = np.clip(image_array + noise, 0, 255)  # Ensure values are within [0, 255]\n",
        "\n",
        "    return Image.fromarray(noisy_image_array)\n",
        "\n",
        "def process_images(input_dir, output_dir):\n",
        "    \"\"\"Process images in the input directory and save noisy images to the output directory.\"\"\"\n",
        "    if not os.path.exists(output_dir):\n",
        "        os.makedirs(output_dir)\n",
        "\n",
        "    # Get all image files from the input directory\n",
        "    image_files = [f for f in os.listdir(input_dir) if f.lower().endswith(('.bmp', '.jpg', '.jpeg'))]\n",
        "\n",
        "    for i, image_file in enumerate(image_files):\n",
        "        if i >= 100:  # Limit to 100 images\n",
        "            break\n",
        "\n",
        "        # Open an image file\n",
        "        with Image.open(os.path.join(input_dir, image_file)) as img:\n",
        "            noisy_img = add_gaussian_noise(img)\n",
        "            noisy_img.save(os.path.join(output_dir, f'noisy_{image_file}'))\n",
        "            print(f'Saved noisy image: noisy_{image_file}')\n",
        "\n",
        "# Example usage:\n",
        "input_directory = 'YANG91'  # Change this to your input directory\n",
        "output_directory = 'WAZIR_NOISY_IMAGE'  # Change this to your output directory\n",
        "\n",
        "process_images(input_directory, output_directory)"
      ],
      "metadata": {
        "colab": {
          "base_uri": "https://localhost:8080/"
        },
        "id": "9op5PADhaAZw",
        "outputId": "5e5f2846-c3a2-43f8-dd5c-64b44fe26dad"
      },
      "execution_count": 23,
      "outputs": [
        {
          "output_type": "stream",
          "name": "stdout",
          "text": [
            "Saved noisy image: noisy_t23.bmp\n",
            "Saved noisy image: noisy_tt2.bmp\n",
            "Saved noisy image: noisy_tt13.bmp\n",
            "Saved noisy image: noisy_t12.bmp\n",
            "Saved noisy image: noisy_t66.bmp\n",
            "Saved noisy image: noisy_t7.bmp\n",
            "Saved noisy image: noisy_t57.bmp\n",
            "Saved noisy image: noisy_tt15.bmp\n",
            "Saved noisy image: noisy_t63.bmp\n",
            "Saved noisy image: noisy_t15.bmp\n",
            "Saved noisy image: noisy_t64.bmp\n",
            "Saved noisy image: noisy_t38.bmp\n",
            "Saved noisy image: noisy_tt18.bmp\n",
            "Saved noisy image: noisy_tt14.bmp\n",
            "Saved noisy image: noisy_tt12.bmp\n",
            "Saved noisy image: noisy_t31.bmp\n",
            "Saved noisy image: noisy_t60.bmp\n",
            "Saved noisy image: noisy_t39.bmp\n",
            "Saved noisy image: noisy_tt22.bmp\n",
            "Saved noisy image: noisy_tt6.bmp\n",
            "Saved noisy image: noisy_t27.bmp\n",
            "Saved noisy image: noisy_t53.bmp\n",
            "Saved noisy image: noisy_t47.bmp\n",
            "Saved noisy image: noisy_t36.bmp\n",
            "Saved noisy image: noisy_tt16.bmp\n",
            "Saved noisy image: noisy_t5.bmp\n",
            "Saved noisy image: noisy_t34.bmp\n",
            "Saved noisy image: noisy_t25.bmp\n",
            "Saved noisy image: noisy_tt5.bmp\n",
            "Saved noisy image: noisy_tt10.bmp\n",
            "Saved noisy image: noisy_t32.bmp\n",
            "Saved noisy image: noisy_tt21.bmp\n",
            "Saved noisy image: noisy_t8.bmp\n",
            "Saved noisy image: noisy_t65.bmp\n",
            "Saved noisy image: noisy_t43.bmp\n",
            "Saved noisy image: noisy_tt17.bmp\n",
            "Saved noisy image: noisy_t33.bmp\n",
            "Saved noisy image: noisy_t44.bmp\n",
            "Saved noisy image: noisy_tt8.bmp\n",
            "Saved noisy image: noisy_t19.bmp\n",
            "Saved noisy image: noisy_tt25.bmp\n",
            "Saved noisy image: noisy_t56.bmp\n",
            "Saved noisy image: noisy_tt23.bmp\n",
            "Saved noisy image: noisy_t30.bmp\n",
            "Saved noisy image: noisy_t59.bmp\n",
            "Saved noisy image: noisy_t22.bmp\n",
            "Saved noisy image: noisy_t13.bmp\n",
            "Saved noisy image: noisy_t42.bmp\n",
            "Saved noisy image: noisy_t28.bmp\n",
            "Saved noisy image: noisy_t26.bmp\n",
            "Saved noisy image: noisy_tt3.bmp\n",
            "Saved noisy image: noisy_t10.bmp\n",
            "Saved noisy image: noisy_t35.bmp\n",
            "Saved noisy image: noisy_t52.bmp\n",
            "Saved noisy image: noisy_t62.bmp\n",
            "Saved noisy image: noisy_t11.bmp\n",
            "Saved noisy image: noisy_t20.bmp\n",
            "Saved noisy image: noisy_t18.bmp\n",
            "Saved noisy image: noisy_t40.bmp\n",
            "Saved noisy image: noisy_t51.bmp\n",
            "Saved noisy image: noisy_t1.bmp\n",
            "Saved noisy image: noisy_tt27.bmp\n",
            "Saved noisy image: noisy_t37.bmp\n",
            "Saved noisy image: noisy_t21.bmp\n",
            "Saved noisy image: noisy_tt19.bmp\n",
            "Saved noisy image: noisy_t9.bmp\n",
            "Saved noisy image: noisy_tt1.bmp\n",
            "Saved noisy image: noisy_tt9.bmp\n",
            "Saved noisy image: noisy_t6.bmp\n",
            "Saved noisy image: noisy_t55.bmp\n",
            "Saved noisy image: noisy_tt4.bmp\n",
            "Saved noisy image: noisy_tt7.bmp\n",
            "Saved noisy image: noisy_t24.bmp\n",
            "Saved noisy image: noisy_t46.bmp\n",
            "Saved noisy image: noisy_t48.bmp\n",
            "Saved noisy image: noisy_t3.bmp\n",
            "Saved noisy image: noisy_t61.bmp\n",
            "Saved noisy image: noisy_tt24.bmp\n",
            "Saved noisy image: noisy_t16.bmp\n",
            "Saved noisy image: noisy_tt26.bmp\n",
            "Saved noisy image: noisy_t4.bmp\n",
            "Saved noisy image: noisy_t49.bmp\n",
            "Saved noisy image: noisy_t2.bmp\n",
            "Saved noisy image: noisy_t29.bmp\n",
            "Saved noisy image: noisy_t17.bmp\n",
            "Saved noisy image: noisy_t14.bmp\n",
            "Saved noisy image: noisy_t58.bmp\n",
            "Saved noisy image: noisy_tt20.bmp\n",
            "Saved noisy image: noisy_t45.bmp\n",
            "Saved noisy image: noisy_t54.bmp\n"
          ]
        }
      ]
    },
    {
      "cell_type": "code",
      "source": [
        "!ls"
      ],
      "metadata": {
        "colab": {
          "base_uri": "https://localhost:8080/"
        },
        "id": "kA3-43r0a7cs",
        "outputId": "93d10c1e-03c4-4bb3-844f-b182f1a3e78c"
      },
      "execution_count": 24,
      "outputs": [
        {
          "output_type": "stream",
          "name": "stdout",
          "text": [
            "sample_data  WAZIR_NOISY_IMAGE\tYANG91\n"
          ]
        }
      ]
    },
    {
      "cell_type": "code",
      "source": [
        "import matplotlib.pyplot as plt\n",
        "import cv2\n",
        "\n",
        "# Load images using OpenCV\n",
        "image1 = cv2.imread('YANG91/t2.bmp')  # Replace with your image path\n",
        "image2 = cv2.imread('WAZIR_NOISY_IMAGE/noisy_t1.bmp')  # Replace with your image path\n",
        "\n",
        "# Convert BGR to RGB (OpenCV loads images in BGR format)\n",
        "image1 = cv2.cvtColor(image1, cv2.COLOR_BGR2RGB)\n",
        "image2 = cv2.cvtColor(image2, cv2.COLOR_BGR2RGB)\n",
        "\n",
        "# Create a figure to hold the subplots\n",
        "fig, ax = plt.subplots(1, 2, figsize=(12, 6))  # 1 row, 2 columns\n",
        "\n",
        "# Display the images\n",
        "ax[0].imshow(image1)\n",
        "ax[0].axis('off')  # Hide axes\n",
        "ax[0].set_title('Image 1')  # Title for the first image\n",
        "\n",
        "ax[1].imshow(image2)\n",
        "ax[1].axis('off')  # Hide axes\n",
        "ax[1].set_title('Image 2')  # Title for the second image\n",
        "\n",
        "# Show the plot\n",
        "plt.show()"
      ],
      "metadata": {
        "id": "DVbjmOXGbqOe"
      },
      "execution_count": null,
      "outputs": []
    }
  ]
}